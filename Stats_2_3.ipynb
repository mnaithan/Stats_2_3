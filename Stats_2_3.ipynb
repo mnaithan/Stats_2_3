{
 "cells": [
  {
   "cell_type": "markdown",
   "metadata": {},
   "source": [
    " R --> Red Ball\n",
    " B ---> Blue Ball\n",
    " \n",
    " events           Probability\n",
    "    RR          (4/10)(3/9) = 2/15\n",
    "    RB          (4/10)(6/9) = 4/15\n",
    "    BR          (6/10)(4/9) = 4/15 \n",
    "    BB          (6/10)(5/9) = 1/3"
   ]
  }
 ],
 "metadata": {
  "kernelspec": {
   "display_name": "Python 3",
   "language": "python",
   "name": "python3"
  },
  "language_info": {
   "codemirror_mode": {
    "name": "ipython",
    "version": 3
   },
   "file_extension": ".py",
   "mimetype": "text/x-python",
   "name": "python",
   "nbconvert_exporter": "python",
   "pygments_lexer": "ipython3",
   "version": "3.6.4"
  }
 },
 "nbformat": 4,
 "nbformat_minor": 2
}
